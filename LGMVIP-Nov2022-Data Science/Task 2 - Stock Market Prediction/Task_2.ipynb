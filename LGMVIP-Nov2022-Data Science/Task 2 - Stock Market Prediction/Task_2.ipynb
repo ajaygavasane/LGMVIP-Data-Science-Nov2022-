{
 "cells": [
  {
   "cell_type": "markdown",
   "id": "36fad3ad",
   "metadata": {},
   "source": [
    "#### Ajay Gavasane\n",
    "#### LGMVIP Nov2022\n",
    "##### Task - 2: Stock Market Prediction"
   ]
  },
  {
   "cell_type": "code",
   "execution_count": 2,
   "id": "399c1e56",
   "metadata": {},
   "outputs": [],
   "source": [
    "import pandas as pd\n",
    "import numpy as np\n",
    "import seaborn as sns\n",
    "import matplotlib.pyplot as plt\n",
    "from sklearn.linear_model import LinearRegression\n",
    "from sklearn.model_selection import train_test_split\n",
    "from sklearn.metrics import mean_absolute_error, mean_squared_error, r2_score\n",
    "from sklearn.preprocessing import StandardScaler\n",
    "from sklearn.ensemble import RandomForestRegressor\n",
    "import warnings\n",
    "warnings.filterwarnings('ignore')"
   ]
  },
  {
   "cell_type": "code",
   "execution_count": 3,
   "id": "cea0f37a",
   "metadata": {},
   "outputs": [
    {
     "data": {
      "text/html": [
       "<div>\n",
       "<style scoped>\n",
       "    .dataframe tbody tr th:only-of-type {\n",
       "        vertical-align: middle;\n",
       "    }\n",
       "\n",
       "    .dataframe tbody tr th {\n",
       "        vertical-align: top;\n",
       "    }\n",
       "\n",
       "    .dataframe thead th {\n",
       "        text-align: right;\n",
       "    }\n",
       "</style>\n",
       "<table border=\"1\" class=\"dataframe\">\n",
       "  <thead>\n",
       "    <tr style=\"text-align: right;\">\n",
       "      <th></th>\n",
       "      <th>Date</th>\n",
       "      <th>Open</th>\n",
       "      <th>High</th>\n",
       "      <th>Low</th>\n",
       "      <th>Last</th>\n",
       "      <th>Close</th>\n",
       "      <th>Total Trade Quantity</th>\n",
       "      <th>Turnover (Lacs)</th>\n",
       "    </tr>\n",
       "  </thead>\n",
       "  <tbody>\n",
       "    <tr>\n",
       "      <th>0</th>\n",
       "      <td>2018-09-28</td>\n",
       "      <td>234.05</td>\n",
       "      <td>235.95</td>\n",
       "      <td>230.20</td>\n",
       "      <td>233.50</td>\n",
       "      <td>233.75</td>\n",
       "      <td>3069914</td>\n",
       "      <td>7162.35</td>\n",
       "    </tr>\n",
       "    <tr>\n",
       "      <th>1</th>\n",
       "      <td>2018-09-27</td>\n",
       "      <td>234.55</td>\n",
       "      <td>236.80</td>\n",
       "      <td>231.10</td>\n",
       "      <td>233.80</td>\n",
       "      <td>233.25</td>\n",
       "      <td>5082859</td>\n",
       "      <td>11859.95</td>\n",
       "    </tr>\n",
       "    <tr>\n",
       "      <th>2</th>\n",
       "      <td>2018-09-26</td>\n",
       "      <td>240.00</td>\n",
       "      <td>240.00</td>\n",
       "      <td>232.50</td>\n",
       "      <td>235.00</td>\n",
       "      <td>234.25</td>\n",
       "      <td>2240909</td>\n",
       "      <td>5248.60</td>\n",
       "    </tr>\n",
       "    <tr>\n",
       "      <th>3</th>\n",
       "      <td>2018-09-25</td>\n",
       "      <td>233.30</td>\n",
       "      <td>236.75</td>\n",
       "      <td>232.00</td>\n",
       "      <td>236.25</td>\n",
       "      <td>236.10</td>\n",
       "      <td>2349368</td>\n",
       "      <td>5503.90</td>\n",
       "    </tr>\n",
       "    <tr>\n",
       "      <th>4</th>\n",
       "      <td>2018-09-24</td>\n",
       "      <td>233.55</td>\n",
       "      <td>239.20</td>\n",
       "      <td>230.75</td>\n",
       "      <td>234.00</td>\n",
       "      <td>233.30</td>\n",
       "      <td>3423509</td>\n",
       "      <td>7999.55</td>\n",
       "    </tr>\n",
       "  </tbody>\n",
       "</table>\n",
       "</div>"
      ],
      "text/plain": [
       "         Date    Open    High     Low    Last   Close  Total Trade Quantity  \\\n",
       "0  2018-09-28  234.05  235.95  230.20  233.50  233.75               3069914   \n",
       "1  2018-09-27  234.55  236.80  231.10  233.80  233.25               5082859   \n",
       "2  2018-09-26  240.00  240.00  232.50  235.00  234.25               2240909   \n",
       "3  2018-09-25  233.30  236.75  232.00  236.25  236.10               2349368   \n",
       "4  2018-09-24  233.55  239.20  230.75  234.00  233.30               3423509   \n",
       "\n",
       "   Turnover (Lacs)  \n",
       "0          7162.35  \n",
       "1         11859.95  \n",
       "2          5248.60  \n",
       "3          5503.90  \n",
       "4          7999.55  "
      ]
     },
     "execution_count": 3,
     "metadata": {},
     "output_type": "execute_result"
    }
   ],
   "source": [
    "df = pd.read_csv('https://raw.githubusercontent.com/mwitiderrick/stockprice/master/NSE-TATAGLOBAL.csv')\n",
    "df.head()"
   ]
  },
  {
   "cell_type": "code",
   "execution_count": 4,
   "id": "88921e57",
   "metadata": {},
   "outputs": [
    {
     "data": {
      "text/html": [
       "<div>\n",
       "<style scoped>\n",
       "    .dataframe tbody tr th:only-of-type {\n",
       "        vertical-align: middle;\n",
       "    }\n",
       "\n",
       "    .dataframe tbody tr th {\n",
       "        vertical-align: top;\n",
       "    }\n",
       "\n",
       "    .dataframe thead th {\n",
       "        text-align: right;\n",
       "    }\n",
       "</style>\n",
       "<table border=\"1\" class=\"dataframe\">\n",
       "  <thead>\n",
       "    <tr style=\"text-align: right;\">\n",
       "      <th></th>\n",
       "      <th>Date</th>\n",
       "      <th>Open</th>\n",
       "      <th>High</th>\n",
       "      <th>Low</th>\n",
       "      <th>Last</th>\n",
       "      <th>Close</th>\n",
       "      <th>Total Trade Quantity</th>\n",
       "      <th>Turnover (Lacs)</th>\n",
       "    </tr>\n",
       "  </thead>\n",
       "  <tbody>\n",
       "    <tr>\n",
       "      <th>2030</th>\n",
       "      <td>2010-07-27</td>\n",
       "      <td>117.6</td>\n",
       "      <td>119.50</td>\n",
       "      <td>112.00</td>\n",
       "      <td>118.80</td>\n",
       "      <td>118.65</td>\n",
       "      <td>586100</td>\n",
       "      <td>694.98</td>\n",
       "    </tr>\n",
       "    <tr>\n",
       "      <th>2031</th>\n",
       "      <td>2010-07-26</td>\n",
       "      <td>120.1</td>\n",
       "      <td>121.00</td>\n",
       "      <td>117.10</td>\n",
       "      <td>117.10</td>\n",
       "      <td>117.60</td>\n",
       "      <td>658440</td>\n",
       "      <td>780.01</td>\n",
       "    </tr>\n",
       "    <tr>\n",
       "      <th>2032</th>\n",
       "      <td>2010-07-23</td>\n",
       "      <td>121.8</td>\n",
       "      <td>121.95</td>\n",
       "      <td>120.25</td>\n",
       "      <td>120.35</td>\n",
       "      <td>120.65</td>\n",
       "      <td>281312</td>\n",
       "      <td>340.31</td>\n",
       "    </tr>\n",
       "    <tr>\n",
       "      <th>2033</th>\n",
       "      <td>2010-07-22</td>\n",
       "      <td>120.3</td>\n",
       "      <td>122.00</td>\n",
       "      <td>120.25</td>\n",
       "      <td>120.75</td>\n",
       "      <td>120.90</td>\n",
       "      <td>293312</td>\n",
       "      <td>355.17</td>\n",
       "    </tr>\n",
       "    <tr>\n",
       "      <th>2034</th>\n",
       "      <td>2010-07-21</td>\n",
       "      <td>122.1</td>\n",
       "      <td>123.00</td>\n",
       "      <td>121.05</td>\n",
       "      <td>121.10</td>\n",
       "      <td>121.55</td>\n",
       "      <td>658666</td>\n",
       "      <td>803.56</td>\n",
       "    </tr>\n",
       "  </tbody>\n",
       "</table>\n",
       "</div>"
      ],
      "text/plain": [
       "            Date   Open    High     Low    Last   Close  Total Trade Quantity  \\\n",
       "2030  2010-07-27  117.6  119.50  112.00  118.80  118.65                586100   \n",
       "2031  2010-07-26  120.1  121.00  117.10  117.10  117.60                658440   \n",
       "2032  2010-07-23  121.8  121.95  120.25  120.35  120.65                281312   \n",
       "2033  2010-07-22  120.3  122.00  120.25  120.75  120.90                293312   \n",
       "2034  2010-07-21  122.1  123.00  121.05  121.10  121.55                658666   \n",
       "\n",
       "      Turnover (Lacs)  \n",
       "2030           694.98  \n",
       "2031           780.01  \n",
       "2032           340.31  \n",
       "2033           355.17  \n",
       "2034           803.56  "
      ]
     },
     "execution_count": 4,
     "metadata": {},
     "output_type": "execute_result"
    }
   ],
   "source": [
    "df.tail()"
   ]
  },
  {
   "cell_type": "code",
   "execution_count": 5,
   "id": "242477ba",
   "metadata": {},
   "outputs": [
    {
     "data": {
      "text/plain": [
       "(2035, 8)"
      ]
     },
     "execution_count": 5,
     "metadata": {},
     "output_type": "execute_result"
    }
   ],
   "source": [
    "df.shape"
   ]
  },
  {
   "cell_type": "code",
   "execution_count": 6,
   "id": "c0a0f4cf",
   "metadata": {},
   "outputs": [
    {
     "data": {
      "text/html": [
       "<div>\n",
       "<style scoped>\n",
       "    .dataframe tbody tr th:only-of-type {\n",
       "        vertical-align: middle;\n",
       "    }\n",
       "\n",
       "    .dataframe tbody tr th {\n",
       "        vertical-align: top;\n",
       "    }\n",
       "\n",
       "    .dataframe thead th {\n",
       "        text-align: right;\n",
       "    }\n",
       "</style>\n",
       "<table border=\"1\" class=\"dataframe\">\n",
       "  <thead>\n",
       "    <tr style=\"text-align: right;\">\n",
       "      <th></th>\n",
       "      <th>Open</th>\n",
       "      <th>High</th>\n",
       "      <th>Low</th>\n",
       "      <th>Last</th>\n",
       "      <th>Close</th>\n",
       "      <th>Total Trade Quantity</th>\n",
       "      <th>Turnover (Lacs)</th>\n",
       "    </tr>\n",
       "  </thead>\n",
       "  <tbody>\n",
       "    <tr>\n",
       "      <th>count</th>\n",
       "      <td>2035.000000</td>\n",
       "      <td>2035.000000</td>\n",
       "      <td>2035.000000</td>\n",
       "      <td>2035.000000</td>\n",
       "      <td>2035.00000</td>\n",
       "      <td>2.035000e+03</td>\n",
       "      <td>2035.000000</td>\n",
       "    </tr>\n",
       "    <tr>\n",
       "      <th>mean</th>\n",
       "      <td>149.713735</td>\n",
       "      <td>151.992826</td>\n",
       "      <td>147.293931</td>\n",
       "      <td>149.474251</td>\n",
       "      <td>149.45027</td>\n",
       "      <td>2.335681e+06</td>\n",
       "      <td>3899.980565</td>\n",
       "    </tr>\n",
       "    <tr>\n",
       "      <th>std</th>\n",
       "      <td>48.664509</td>\n",
       "      <td>49.413109</td>\n",
       "      <td>47.931958</td>\n",
       "      <td>48.732570</td>\n",
       "      <td>48.71204</td>\n",
       "      <td>2.091778e+06</td>\n",
       "      <td>4570.767877</td>\n",
       "    </tr>\n",
       "    <tr>\n",
       "      <th>min</th>\n",
       "      <td>81.100000</td>\n",
       "      <td>82.800000</td>\n",
       "      <td>80.000000</td>\n",
       "      <td>81.000000</td>\n",
       "      <td>80.95000</td>\n",
       "      <td>3.961000e+04</td>\n",
       "      <td>37.040000</td>\n",
       "    </tr>\n",
       "    <tr>\n",
       "      <th>25%</th>\n",
       "      <td>120.025000</td>\n",
       "      <td>122.100000</td>\n",
       "      <td>118.300000</td>\n",
       "      <td>120.075000</td>\n",
       "      <td>120.05000</td>\n",
       "      <td>1.146444e+06</td>\n",
       "      <td>1427.460000</td>\n",
       "    </tr>\n",
       "    <tr>\n",
       "      <th>50%</th>\n",
       "      <td>141.500000</td>\n",
       "      <td>143.400000</td>\n",
       "      <td>139.600000</td>\n",
       "      <td>141.100000</td>\n",
       "      <td>141.25000</td>\n",
       "      <td>1.783456e+06</td>\n",
       "      <td>2512.030000</td>\n",
       "    </tr>\n",
       "    <tr>\n",
       "      <th>75%</th>\n",
       "      <td>157.175000</td>\n",
       "      <td>159.400000</td>\n",
       "      <td>155.150000</td>\n",
       "      <td>156.925000</td>\n",
       "      <td>156.90000</td>\n",
       "      <td>2.813594e+06</td>\n",
       "      <td>4539.015000</td>\n",
       "    </tr>\n",
       "    <tr>\n",
       "      <th>max</th>\n",
       "      <td>327.700000</td>\n",
       "      <td>328.750000</td>\n",
       "      <td>321.650000</td>\n",
       "      <td>325.950000</td>\n",
       "      <td>325.75000</td>\n",
       "      <td>2.919102e+07</td>\n",
       "      <td>55755.080000</td>\n",
       "    </tr>\n",
       "  </tbody>\n",
       "</table>\n",
       "</div>"
      ],
      "text/plain": [
       "              Open         High          Low         Last       Close  \\\n",
       "count  2035.000000  2035.000000  2035.000000  2035.000000  2035.00000   \n",
       "mean    149.713735   151.992826   147.293931   149.474251   149.45027   \n",
       "std      48.664509    49.413109    47.931958    48.732570    48.71204   \n",
       "min      81.100000    82.800000    80.000000    81.000000    80.95000   \n",
       "25%     120.025000   122.100000   118.300000   120.075000   120.05000   \n",
       "50%     141.500000   143.400000   139.600000   141.100000   141.25000   \n",
       "75%     157.175000   159.400000   155.150000   156.925000   156.90000   \n",
       "max     327.700000   328.750000   321.650000   325.950000   325.75000   \n",
       "\n",
       "       Total Trade Quantity  Turnover (Lacs)  \n",
       "count          2.035000e+03      2035.000000  \n",
       "mean           2.335681e+06      3899.980565  \n",
       "std            2.091778e+06      4570.767877  \n",
       "min            3.961000e+04        37.040000  \n",
       "25%            1.146444e+06      1427.460000  \n",
       "50%            1.783456e+06      2512.030000  \n",
       "75%            2.813594e+06      4539.015000  \n",
       "max            2.919102e+07     55755.080000  "
      ]
     },
     "execution_count": 6,
     "metadata": {},
     "output_type": "execute_result"
    }
   ],
   "source": [
    "df.describe()"
   ]
  },
  {
   "cell_type": "code",
   "execution_count": 8,
   "id": "9642ebab",
   "metadata": {},
   "outputs": [
    {
     "name": "stdout",
     "output_type": "stream",
     "text": [
      "<class 'pandas.core.frame.DataFrame'>\n",
      "RangeIndex: 2035 entries, 0 to 2034\n",
      "Data columns (total 8 columns):\n",
      " #   Column                Non-Null Count  Dtype  \n",
      "---  ------                --------------  -----  \n",
      " 0   Date                  2035 non-null   object \n",
      " 1   Open                  2035 non-null   float64\n",
      " 2   High                  2035 non-null   float64\n",
      " 3   Low                   2035 non-null   float64\n",
      " 4   Last                  2035 non-null   float64\n",
      " 5   Close                 2035 non-null   float64\n",
      " 6   Total Trade Quantity  2035 non-null   int64  \n",
      " 7   Turnover (Lacs)       2035 non-null   float64\n",
      "dtypes: float64(6), int64(1), object(1)\n",
      "memory usage: 127.3+ KB\n"
     ]
    }
   ],
   "source": [
    "df.info()"
   ]
  },
  {
   "cell_type": "code",
   "execution_count": 9,
   "id": "11a310f2",
   "metadata": {},
   "outputs": [
    {
     "data": {
      "text/plain": [
       "Date                    0\n",
       "Open                    0\n",
       "High                    0\n",
       "Low                     0\n",
       "Last                    0\n",
       "Close                   0\n",
       "Total Trade Quantity    0\n",
       "Turnover (Lacs)         0\n",
       "dtype: int64"
      ]
     },
     "execution_count": 9,
     "metadata": {},
     "output_type": "execute_result"
    }
   ],
   "source": [
    "df.isnull().sum()"
   ]
  },
  {
   "cell_type": "code",
   "execution_count": 10,
   "id": "391ad2b1",
   "metadata": {},
   "outputs": [],
   "source": [
    "stk=df.copy()"
   ]
  },
  {
   "cell_type": "code",
   "execution_count": 11,
   "id": "af33f067",
   "metadata": {},
   "outputs": [
    {
     "data": {
      "text/plain": [
       "Index(['Date', 'Open', 'High', 'Low', 'Last', 'Close', 'Total Trade Quantity',\n",
       "       'Turnover (Lacs)'],\n",
       "      dtype='object')"
      ]
     },
     "execution_count": 11,
     "metadata": {},
     "output_type": "execute_result"
    }
   ],
   "source": [
    "stk.columns"
   ]
  },
  {
   "cell_type": "code",
   "execution_count": 12,
   "id": "a3f6a91c",
   "metadata": {},
   "outputs": [],
   "source": [
    "stk['Date']=pd.to_datetime(stk['Date'])"
   ]
  },
  {
   "cell_type": "code",
   "execution_count": 13,
   "id": "6b11ef0a",
   "metadata": {},
   "outputs": [
    {
     "name": "stdout",
     "output_type": "stream",
     "text": [
      "<class 'pandas.core.frame.DataFrame'>\n",
      "RangeIndex: 2035 entries, 0 to 2034\n",
      "Data columns (total 8 columns):\n",
      " #   Column                Non-Null Count  Dtype         \n",
      "---  ------                --------------  -----         \n",
      " 0   Date                  2035 non-null   datetime64[ns]\n",
      " 1   Open                  2035 non-null   float64       \n",
      " 2   High                  2035 non-null   float64       \n",
      " 3   Low                   2035 non-null   float64       \n",
      " 4   Last                  2035 non-null   float64       \n",
      " 5   Close                 2035 non-null   float64       \n",
      " 6   Total Trade Quantity  2035 non-null   int64         \n",
      " 7   Turnover (Lacs)       2035 non-null   float64       \n",
      "dtypes: datetime64[ns](1), float64(6), int64(1)\n",
      "memory usage: 127.3 KB\n"
     ]
    }
   ],
   "source": [
    "stk.info()"
   ]
  },
  {
   "cell_type": "code",
   "execution_count": 14,
   "id": "f53e29f3",
   "metadata": {},
   "outputs": [
    {
     "data": {
      "text/html": [
       "<div>\n",
       "<style scoped>\n",
       "    .dataframe tbody tr th:only-of-type {\n",
       "        vertical-align: middle;\n",
       "    }\n",
       "\n",
       "    .dataframe tbody tr th {\n",
       "        vertical-align: top;\n",
       "    }\n",
       "\n",
       "    .dataframe thead th {\n",
       "        text-align: right;\n",
       "    }\n",
       "</style>\n",
       "<table border=\"1\" class=\"dataframe\">\n",
       "  <thead>\n",
       "    <tr style=\"text-align: right;\">\n",
       "      <th></th>\n",
       "      <th>Date</th>\n",
       "      <th>Open</th>\n",
       "      <th>High</th>\n",
       "      <th>Low</th>\n",
       "      <th>Last</th>\n",
       "      <th>Close</th>\n",
       "      <th>Total Trade Quantity</th>\n",
       "      <th>Turnover (Lacs)</th>\n",
       "    </tr>\n",
       "  </thead>\n",
       "  <tbody>\n",
       "    <tr>\n",
       "      <th>0</th>\n",
       "      <td>2018-09-28</td>\n",
       "      <td>234.05</td>\n",
       "      <td>235.95</td>\n",
       "      <td>230.20</td>\n",
       "      <td>233.50</td>\n",
       "      <td>233.75</td>\n",
       "      <td>3069914</td>\n",
       "      <td>7162.35</td>\n",
       "    </tr>\n",
       "    <tr>\n",
       "      <th>1</th>\n",
       "      <td>2018-09-27</td>\n",
       "      <td>234.55</td>\n",
       "      <td>236.80</td>\n",
       "      <td>231.10</td>\n",
       "      <td>233.80</td>\n",
       "      <td>233.25</td>\n",
       "      <td>5082859</td>\n",
       "      <td>11859.95</td>\n",
       "    </tr>\n",
       "    <tr>\n",
       "      <th>2</th>\n",
       "      <td>2018-09-26</td>\n",
       "      <td>240.00</td>\n",
       "      <td>240.00</td>\n",
       "      <td>232.50</td>\n",
       "      <td>235.00</td>\n",
       "      <td>234.25</td>\n",
       "      <td>2240909</td>\n",
       "      <td>5248.60</td>\n",
       "    </tr>\n",
       "    <tr>\n",
       "      <th>3</th>\n",
       "      <td>2018-09-25</td>\n",
       "      <td>233.30</td>\n",
       "      <td>236.75</td>\n",
       "      <td>232.00</td>\n",
       "      <td>236.25</td>\n",
       "      <td>236.10</td>\n",
       "      <td>2349368</td>\n",
       "      <td>5503.90</td>\n",
       "    </tr>\n",
       "    <tr>\n",
       "      <th>4</th>\n",
       "      <td>2018-09-24</td>\n",
       "      <td>233.55</td>\n",
       "      <td>239.20</td>\n",
       "      <td>230.75</td>\n",
       "      <td>234.00</td>\n",
       "      <td>233.30</td>\n",
       "      <td>3423509</td>\n",
       "      <td>7999.55</td>\n",
       "    </tr>\n",
       "  </tbody>\n",
       "</table>\n",
       "</div>"
      ],
      "text/plain": [
       "        Date    Open    High     Low    Last   Close  Total Trade Quantity  \\\n",
       "0 2018-09-28  234.05  235.95  230.20  233.50  233.75               3069914   \n",
       "1 2018-09-27  234.55  236.80  231.10  233.80  233.25               5082859   \n",
       "2 2018-09-26  240.00  240.00  232.50  235.00  234.25               2240909   \n",
       "3 2018-09-25  233.30  236.75  232.00  236.25  236.10               2349368   \n",
       "4 2018-09-24  233.55  239.20  230.75  234.00  233.30               3423509   \n",
       "\n",
       "   Turnover (Lacs)  \n",
       "0          7162.35  \n",
       "1         11859.95  \n",
       "2          5248.60  \n",
       "3          5503.90  \n",
       "4          7999.55  "
      ]
     },
     "execution_count": 14,
     "metadata": {},
     "output_type": "execute_result"
    }
   ],
   "source": [
    "stk.head()"
   ]
  },
  {
   "cell_type": "code",
   "execution_count": 15,
   "id": "1d63b7de",
   "metadata": {},
   "outputs": [
    {
     "data": {
      "text/plain": [
       "Timestamp('2010-07-21 00:00:00')"
      ]
     },
     "execution_count": 15,
     "metadata": {},
     "output_type": "execute_result"
    }
   ],
   "source": [
    "stk['Date'].min()"
   ]
  },
  {
   "cell_type": "code",
   "execution_count": 16,
   "id": "d1960977",
   "metadata": {},
   "outputs": [
    {
     "data": {
      "text/plain": [
       "Timestamp('2018-09-28 00:00:00')"
      ]
     },
     "execution_count": 16,
     "metadata": {},
     "output_type": "execute_result"
    }
   ],
   "source": [
    "stk['Date'].max()"
   ]
  },
  {
   "cell_type": "code",
   "execution_count": 17,
   "id": "633445d4",
   "metadata": {},
   "outputs": [
    {
     "data": {
      "text/html": [
       "<div>\n",
       "<style scoped>\n",
       "    .dataframe tbody tr th:only-of-type {\n",
       "        vertical-align: middle;\n",
       "    }\n",
       "\n",
       "    .dataframe tbody tr th {\n",
       "        vertical-align: top;\n",
       "    }\n",
       "\n",
       "    .dataframe thead th {\n",
       "        text-align: right;\n",
       "    }\n",
       "</style>\n",
       "<table border=\"1\" class=\"dataframe\">\n",
       "  <thead>\n",
       "    <tr style=\"text-align: right;\">\n",
       "      <th></th>\n",
       "      <th>Date</th>\n",
       "      <th>Open</th>\n",
       "      <th>High</th>\n",
       "      <th>Low</th>\n",
       "      <th>Last</th>\n",
       "      <th>Close</th>\n",
       "      <th>Total Trade Quantity</th>\n",
       "      <th>Turnover (Lacs)</th>\n",
       "      <th>Month Year</th>\n",
       "      <th>Year</th>\n",
       "    </tr>\n",
       "  </thead>\n",
       "  <tbody>\n",
       "    <tr>\n",
       "      <th>0</th>\n",
       "      <td>2018-09-28</td>\n",
       "      <td>234.05</td>\n",
       "      <td>235.95</td>\n",
       "      <td>230.20</td>\n",
       "      <td>233.50</td>\n",
       "      <td>233.75</td>\n",
       "      <td>3069914</td>\n",
       "      <td>7162.35</td>\n",
       "      <td>18-09</td>\n",
       "      <td>18</td>\n",
       "    </tr>\n",
       "    <tr>\n",
       "      <th>1</th>\n",
       "      <td>2018-09-27</td>\n",
       "      <td>234.55</td>\n",
       "      <td>236.80</td>\n",
       "      <td>231.10</td>\n",
       "      <td>233.80</td>\n",
       "      <td>233.25</td>\n",
       "      <td>5082859</td>\n",
       "      <td>11859.95</td>\n",
       "      <td>18-09</td>\n",
       "      <td>18</td>\n",
       "    </tr>\n",
       "    <tr>\n",
       "      <th>2</th>\n",
       "      <td>2018-09-26</td>\n",
       "      <td>240.00</td>\n",
       "      <td>240.00</td>\n",
       "      <td>232.50</td>\n",
       "      <td>235.00</td>\n",
       "      <td>234.25</td>\n",
       "      <td>2240909</td>\n",
       "      <td>5248.60</td>\n",
       "      <td>18-09</td>\n",
       "      <td>18</td>\n",
       "    </tr>\n",
       "    <tr>\n",
       "      <th>3</th>\n",
       "      <td>2018-09-25</td>\n",
       "      <td>233.30</td>\n",
       "      <td>236.75</td>\n",
       "      <td>232.00</td>\n",
       "      <td>236.25</td>\n",
       "      <td>236.10</td>\n",
       "      <td>2349368</td>\n",
       "      <td>5503.90</td>\n",
       "      <td>18-09</td>\n",
       "      <td>18</td>\n",
       "    </tr>\n",
       "    <tr>\n",
       "      <th>4</th>\n",
       "      <td>2018-09-24</td>\n",
       "      <td>233.55</td>\n",
       "      <td>239.20</td>\n",
       "      <td>230.75</td>\n",
       "      <td>234.00</td>\n",
       "      <td>233.30</td>\n",
       "      <td>3423509</td>\n",
       "      <td>7999.55</td>\n",
       "      <td>18-09</td>\n",
       "      <td>18</td>\n",
       "    </tr>\n",
       "  </tbody>\n",
       "</table>\n",
       "</div>"
      ],
      "text/plain": [
       "        Date    Open    High     Low    Last   Close  Total Trade Quantity  \\\n",
       "0 2018-09-28  234.05  235.95  230.20  233.50  233.75               3069914   \n",
       "1 2018-09-27  234.55  236.80  231.10  233.80  233.25               5082859   \n",
       "2 2018-09-26  240.00  240.00  232.50  235.00  234.25               2240909   \n",
       "3 2018-09-25  233.30  236.75  232.00  236.25  236.10               2349368   \n",
       "4 2018-09-24  233.55  239.20  230.75  234.00  233.30               3423509   \n",
       "\n",
       "   Turnover (Lacs) Month Year Year  \n",
       "0          7162.35      18-09   18  \n",
       "1         11859.95      18-09   18  \n",
       "2          5248.60      18-09   18  \n",
       "3          5503.90      18-09   18  \n",
       "4          7999.55      18-09   18  "
      ]
     },
     "execution_count": 17,
     "metadata": {},
     "output_type": "execute_result"
    }
   ],
   "source": [
    "stk['Month Year'] = stk['Date'].apply(lambda x: x.strftime ('%y-%m'))\n",
    "stk['Year'] = stk['Date'].apply(lambda x: x.strftime ('%y'))\n",
    "stk.head()"
   ]
  },
  {
   "cell_type": "code",
   "execution_count": 18,
   "id": "fb5c068c",
   "metadata": {},
   "outputs": [
    {
     "data": {
      "image/png": "[encoded data removed]",
      "text/plain": [
       "<Figure size 1800x360 with 1 Axes>"
      ]
     },
     "metadata": {
      "needs_background": "light"
     },
     "output_type": "display_data"
    }
   ],
   "source": [
    "a = stk.groupby('Month Year')['Close'].mean()\n",
    "plt.figure(figsize=(25,5))\n",
    "plt.plot(a, color = 'blue')\n",
    "plt.xticks(rotation = 'vertical')\n",
    "plt.show()"
   ]
  },
  {
   "cell_type": "code",
   "execution_count": 19,
   "id": "242d6f74",
   "metadata": {},
   "outputs": [
    {
     "data": {
      "image/png": "[encoded data removed]",
      "text/plain": [
       "<Figure size 432x288 with 1 Axes>"
      ]
     },
     "metadata": {},
     "output_type": "display_data"
    }
   ],
   "source": [
    "pc = stk[['Year', 'Total Trade Quantity']]\n",
    "grp_pc = pc.groupby('Year')['Total Trade Quantity'].mean().sort_values(ascending = False).reset_index()\n",
    "plt.pie(grp_pc['Total Trade Quantity'], labels=grp_pc['Year'])\n",
    "plt.show()\n"
   ]
  },
  {
   "cell_type": "code",
   "execution_count": 20,
   "id": "5862083d",
   "metadata": {},
   "outputs": [
    {
     "data": {
      "image/png": "[encoded data removed]",
      "text/plain": [
       "<Figure size 432x288 with 1 Axes>"
      ]
     },
     "metadata": {
      "needs_background": "light"
     },
     "output_type": "display_data"
    }
   ],
   "source": [
    "trd = stk[['Year','Turnover (Lacs)']]\n",
    "a = trd.groupby('Year')['Turnover (Lacs)'].mean().sort_values(ascending = False).reset_index()\n",
    "sns.barplot(a['Year'], a['Turnover (Lacs)'])\n",
    "plt.show()"
   ]
  },
  {
   "cell_type": "code",
   "execution_count": 21,
   "id": "fb5c6c20",
   "metadata": {},
   "outputs": [
    {
     "data": {
      "image/png": "[encoded data removed]",
      "text/plain": [
       "<Figure size 720x504 with 2 Axes>"
      ]
     },
     "metadata": {
      "needs_background": "light"
     },
     "output_type": "display_data"
    }
   ],
   "source": [
    "plt.figure(figsize = (10,7))\n",
    "sns.heatmap(stk.corr(), annot = True, cmap = 'YlGnBu')\n",
    "plt.show()\n"
   ]
  },
  {
   "cell_type": "code",
   "execution_count": 22,
   "id": "386f6b0d",
   "metadata": {},
   "outputs": [
    {
     "data": {
      "text/plain": [
       "Index(['Date', 'Open', 'High', 'Low', 'Last', 'Close', 'Total Trade Quantity',\n",
       "       'Turnover (Lacs)', 'Month Year', 'Year'],\n",
       "      dtype='object')"
      ]
     },
     "execution_count": 22,
     "metadata": {},
     "output_type": "execute_result"
    }
   ],
   "source": [
    "stk.columns"
   ]
  },
  {
   "cell_type": "code",
   "execution_count": 23,
   "id": "e4fae8ed",
   "metadata": {},
   "outputs": [],
   "source": [
    "x = stk[['Close', 'Total Trade Quantity']]\n",
    "y = stk['Turnover (Lacs)']"
   ]
  },
  {
   "cell_type": "code",
   "execution_count": 24,
   "id": "1c8d3a38",
   "metadata": {},
   "outputs": [
    {
     "data": {
      "text/html": [
       "<div>\n",
       "<style scoped>\n",
       "    .dataframe tbody tr th:only-of-type {\n",
       "        vertical-align: middle;\n",
       "    }\n",
       "\n",
       "    .dataframe tbody tr th {\n",
       "        vertical-align: top;\n",
       "    }\n",
       "\n",
       "    .dataframe thead th {\n",
       "        text-align: right;\n",
       "    }\n",
       "</style>\n",
       "<table border=\"1\" class=\"dataframe\">\n",
       "  <thead>\n",
       "    <tr style=\"text-align: right;\">\n",
       "      <th></th>\n",
       "      <th>Close</th>\n",
       "      <th>Total Trade Quantity</th>\n",
       "    </tr>\n",
       "  </thead>\n",
       "  <tbody>\n",
       "    <tr>\n",
       "      <th>0</th>\n",
       "      <td>233.75</td>\n",
       "      <td>3069914</td>\n",
       "    </tr>\n",
       "    <tr>\n",
       "      <th>1</th>\n",
       "      <td>233.25</td>\n",
       "      <td>5082859</td>\n",
       "    </tr>\n",
       "    <tr>\n",
       "      <th>2</th>\n",
       "      <td>234.25</td>\n",
       "      <td>2240909</td>\n",
       "    </tr>\n",
       "    <tr>\n",
       "      <th>3</th>\n",
       "      <td>236.10</td>\n",
       "      <td>2349368</td>\n",
       "    </tr>\n",
       "    <tr>\n",
       "      <th>4</th>\n",
       "      <td>233.30</td>\n",
       "      <td>3423509</td>\n",
       "    </tr>\n",
       "  </tbody>\n",
       "</table>\n",
       "</div>"
      ],
      "text/plain": [
       "    Close  Total Trade Quantity\n",
       "0  233.75               3069914\n",
       "1  233.25               5082859\n",
       "2  234.25               2240909\n",
       "3  236.10               2349368\n",
       "4  233.30               3423509"
      ]
     },
     "execution_count": 24,
     "metadata": {},
     "output_type": "execute_result"
    }
   ],
   "source": [
    "x.head()"
   ]
  },
  {
   "cell_type": "code",
   "execution_count": 25,
   "id": "7eecd1a0",
   "metadata": {},
   "outputs": [
    {
     "data": {
      "text/plain": [
       "0     7162.35\n",
       "1    11859.95\n",
       "2     5248.60\n",
       "3     5503.90\n",
       "4     7999.55\n",
       "Name: Turnover (Lacs), dtype: float64"
      ]
     },
     "execution_count": 25,
     "metadata": {},
     "output_type": "execute_result"
    }
   ],
   "source": [
    "y.head()"
   ]
  },
  {
   "cell_type": "code",
   "execution_count": 26,
   "id": "79a36c5f",
   "metadata": {},
   "outputs": [],
   "source": [
    "X_train, X_test, y_train, y_test = train_test_split(x,y, test_size = 0.3, random_state = 0)"
   ]
  },
  {
   "cell_type": "code",
   "execution_count": 27,
   "id": "3e7d5b72",
   "metadata": {},
   "outputs": [],
   "source": [
    "lr=LinearRegression()"
   ]
  },
  {
   "cell_type": "code",
   "execution_count": 28,
   "id": "3b5e0c1c",
   "metadata": {},
   "outputs": [
    {
     "data": {
      "text/plain": [
       "LinearRegression()"
      ]
     },
     "execution_count": 28,
     "metadata": {},
     "output_type": "execute_result"
    }
   ],
   "source": [
    "lr.fit(X_train, y_train)"
   ]
  },
  {
   "cell_type": "code",
   "execution_count": 29,
   "id": "671b1eeb",
   "metadata": {},
   "outputs": [
    {
     "data": {
      "text/plain": [
       "((1424, 2), (611, 2))"
      ]
     },
     "execution_count": 29,
     "metadata": {},
     "output_type": "execute_result"
    }
   ],
   "source": [
    "X_train.shape, X_test.shape"
   ]
  },
  {
   "cell_type": "code",
   "execution_count": 30,
   "id": "c2a04ecd",
   "metadata": {},
   "outputs": [
    {
     "data": {
      "text/plain": [
       "array([16805.015497  ,  1376.16870538,  2207.49649596, ...,\n",
       "        3451.91230936,  3694.93660741,  2177.00777108])"
      ]
     },
     "execution_count": 30,
     "metadata": {},
     "output_type": "execute_result"
    }
   ],
   "source": [
    "y_train_pred = lr.predict(X_train)\n",
    "y_train_pred"
   ]
  },
  {
   "cell_type": "code",
   "execution_count": 31,
   "id": "54d229c5",
   "metadata": {},
   "outputs": [
    {
     "data": {
      "text/plain": [
       "array([ 2.73775308e+03,  4.50817891e+03,  3.72316597e+03,  2.11214997e+03,\n",
       "        4.24964702e+01,  2.42572954e+03,  3.18558586e+03,  9.66124673e+03,\n",
       "        1.66627274e+03,  3.04891271e+03,  2.32553104e+03,  1.43517603e+03,\n",
       "        1.88589004e+03,  9.54420313e+03,  3.32125864e+03,  8.76940837e+03,\n",
       "        2.84122329e+03,  5.64135203e+03,  1.27751069e+03, -8.99509965e+02,\n",
       "        3.35318824e+03,  1.40461068e+03,  6.13604561e+02,  3.38142280e+03,\n",
       "        3.43720507e+03, -1.34771445e+02,  6.43018799e+03,  2.06765290e+03,\n",
       "        1.34719440e+04, -2.38452135e+02,  3.62139186e+03,  1.45618429e+04,\n",
       "        1.21039238e+04,  2.75548142e+03,  1.60695077e+03,  2.04365524e+03,\n",
       "        4.07812323e+03,  1.48005154e+03,  6.47946748e+02,  1.91518806e+03,\n",
       "        2.29614885e+03,  2.12755631e+03,  1.00404802e+04,  1.93956912e+03,\n",
       "        9.84648955e+02,  7.83846778e+03,  6.91725881e+03,  7.25086682e+03,\n",
       "        6.96373851e+03,  7.97650374e+03,  5.12292885e+02,  1.56403165e+03,\n",
       "        1.88929548e+03, -8.18051702e+02,  9.86116686e+02,  1.70630951e+03,\n",
       "        1.13386956e+04,  1.15719894e+04,  7.56518342e+03,  5.28605426e+02,\n",
       "        1.43684377e+04,  2.21057314e+03,  3.87548393e+02,  1.25984857e+04,\n",
       "        1.20030314e+04,  2.12732838e+03,  3.55905600e+03,  2.91025433e+03,\n",
       "        4.89381456e+03,  4.11347039e+03,  4.94055464e+03,  7.31388269e+03,\n",
       "        2.29525561e+03,  1.35865758e+04,  1.03676153e+03,  3.00210828e+02,\n",
       "        2.80940357e+03,  3.66775821e+03,  7.72314300e+03,  1.70450466e+03,\n",
       "        7.17258532e+03, -1.15077046e+03,  2.67223966e+03,  2.04909881e+03,\n",
       "        8.23328910e+03,  3.78425538e+03,  1.01721477e+03,  2.57893439e+03,\n",
       "        2.93316193e+02,  3.47105001e+03,  3.58941952e+03,  1.72648138e+04,\n",
       "        2.92139432e+03,  2.35953777e+03,  1.44668715e+03,  9.46105115e+03,\n",
       "        2.17263182e+02,  1.79182665e+03,  2.20115254e+04,  1.62487397e+03,\n",
       "        9.47991718e+03,  3.21176835e+03,  1.44772153e+03,  6.63490380e+03,\n",
       "        3.42674209e+03, -2.98112364e+01,  5.92687585e+03,  2.13960519e+02,\n",
       "        5.53440606e+03,  2.02628304e+03,  1.49166804e+04,  1.53900863e+03,\n",
       "        1.80385359e+03,  1.21270954e+04,  8.37185580e+03,  8.87324629e+03,\n",
       "        7.94185621e+03,  1.10183458e+03,  3.87259791e+03,  5.86903653e+03,\n",
       "        3.37677908e+03, -1.39426413e+02,  2.91824094e+03,  1.30531943e+03,\n",
       "       -7.00092307e+02,  4.04579238e+03,  7.78864042e+02,  1.90120966e+04,\n",
       "        3.51096345e+03, -5.92209592e+02,  5.54796088e+03,  3.73031396e+03,\n",
       "        1.86167264e+03,  1.00147163e+03,  1.01452858e+04,  5.86934087e+03,\n",
       "        4.65102056e+03,  6.42611478e+03,  2.91750158e+03, -1.36616038e+03,\n",
       "        8.64244836e+03,  1.94173569e+03,  1.24228792e+04,  1.13125608e+04,\n",
       "        1.32446420e+04,  6.81098332e+03,  1.34565379e+03,  5.68279437e+03,\n",
       "       -3.16732364e+01, -6.81759016e+02,  4.51677514e+03,  6.77510833e+02,\n",
       "        1.96094966e+03,  2.98136792e+03,  4.07413965e+03,  2.02056310e+03,\n",
       "        7.23506201e+03,  2.35209932e+03,  3.95637976e+03,  1.98703762e+02,\n",
       "        6.04841677e+03, -7.38728825e+02,  4.87171280e+03,  1.22212086e+03,\n",
       "        2.30572257e+03,  2.37105406e+03,  3.49662257e+03,  4.22791210e+03,\n",
       "        2.12144353e+03,  2.30489131e+02,  7.46545830e+03,  9.15675946e+01,\n",
       "       -8.43042337e+02,  2.22091610e+03,  7.07030226e+03,  1.94960663e+03,\n",
       "        2.72510247e+02,  2.98945720e+04,  2.14078870e+03,  8.86818553e+02,\n",
       "       -4.58380867e+02,  3.75872998e+03,  5.53084814e+03,  3.94596570e+03,\n",
       "        3.84748600e+02, -4.46368199e+02,  1.69593877e+04,  1.39377179e+03,\n",
       "        5.63729844e+03,  9.25688337e+02,  1.78736956e+03,  6.77325609e+02,\n",
       "        3.14255199e+03,  5.50084583e+03,  5.06459410e+03,  3.52020035e+03,\n",
       "        9.91583951e+02,  4.97161324e+03,  2.01589805e+02, -1.27084986e+03,\n",
       "        3.42596890e+02,  3.46263817e+03,  2.66297849e+03, -8.69769406e+02,\n",
       "        2.38972254e+03,  9.85185372e+03,  1.97396763e+02,  1.48235409e+04,\n",
       "        1.00397864e+03,  1.85400316e+04,  4.14511154e+03,  1.80524128e+03,\n",
       "        4.21738960e+03,  1.57646221e+04,  4.08746178e+03,  1.09182921e+04,\n",
       "        1.07686219e+04,  1.91857870e+03,  4.67980922e+03,  1.28942805e+03,\n",
       "        1.36928568e+03,  1.56988777e+04,  1.22256961e+03,  5.40109443e+03,\n",
       "        7.48716586e+02,  2.56321135e+03,  9.18403938e+03,  3.07923792e+03,\n",
       "        2.75346236e+03,  2.38373617e+02,  1.88079700e+03,  1.25572545e+03,\n",
       "        3.09745410e+03,  4.28262371e+03,  2.11061303e+03,  1.38392785e+03,\n",
       "        5.19227543e+03,  3.11010410e+03,  1.47059278e+03,  9.77430092e+03,\n",
       "        3.67015034e+03, -4.58837572e+02,  1.59394006e+03,  2.00324112e+03,\n",
       "        3.30644309e+03,  5.52227382e+03,  2.43040891e+02,  6.52021434e+03,\n",
       "        5.23183030e+03,  2.54292869e+03,  2.73129263e+01,  3.22838372e+02,\n",
       "        1.60768484e+03,  7.72911984e+02,  3.06049403e+03,  2.66386483e+04,\n",
       "        1.25163208e+03,  2.22550073e+03,  3.17284878e+03,  2.22961566e+04,\n",
       "        1.38146172e+03, -1.24571993e+03,  2.50387035e+03, -5.49145695e+02,\n",
       "        5.64010641e+03,  2.01919015e+03,  1.76840996e+02,  3.26485764e+03,\n",
       "       -8.35333142e+00,  1.21855228e+03,  7.82645076e+02,  4.33640725e+03,\n",
       "        1.88763462e+03, -8.51460997e+01,  3.84557063e+03,  4.53623769e+02,\n",
       "        2.74844819e+03,  1.74432888e+03,  4.07252590e+03,  6.68579958e+03,\n",
       "        6.70540680e+03,  5.15542970e+02,  3.93907553e+03,  6.64682403e+02,\n",
       "        1.09548266e+04,  3.49302284e+03,  4.79669373e+03,  7.07028418e+03,\n",
       "        3.19924336e+03,  4.21545622e+03, -1.34347386e+02,  4.38703746e+03,\n",
       "        3.20554557e+03,  6.10794261e+03, -1.13660139e+03,  1.61922289e+03,\n",
       "        3.66764093e+03,  5.34452124e+03,  5.39652474e+03,  1.65825531e+03,\n",
       "        6.98190891e+03,  4.10074494e+02,  6.25070317e+03,  1.43411208e+04,\n",
       "       -5.64387122e+02,  2.83397046e+02,  2.07597258e+02,  1.91366993e+03,\n",
       "        1.32833989e+03, -1.07640076e+03,  6.60964466e+03,  2.07075357e+02,\n",
       "        5.40524607e+03,  3.07707295e+03,  3.16526767e+03, -6.31693453e+02,\n",
       "        7.19709313e+03,  1.47315370e+04, -5.72575549e+02,  2.49556873e+03,\n",
       "        1.18793654e+04, -6.23280558e+02,  3.76471218e+03,  5.95790111e+03,\n",
       "        5.73216157e+03,  7.30250393e+03,  3.15287687e+03,  2.04603639e+03,\n",
       "        5.06189009e+03,  3.45805762e+03,  8.74020204e+03,  2.32486166e+03,\n",
       "        4.06355635e+03,  3.60937786e+03,  3.68132105e+02, -3.54824641e+02,\n",
       "        3.01184680e+04,  3.40707829e+03, -7.67088723e+02,  4.99909551e+02,\n",
       "        1.83326841e+02,  1.01848281e+04,  3.03143415e+03,  7.96519198e+03,\n",
       "        2.14916751e+03,  7.17424361e+03,  8.23130681e+03,  3.28678031e+03,\n",
       "       -8.97308929e+02,  1.46561895e+04,  4.65306322e+03,  3.16442663e+03,\n",
       "        1.81052202e+03,  2.32163376e+02,  3.10061353e+03,  3.26392057e+03,\n",
       "        1.15475276e+04,  9.57539757e+03, -6.02844497e+02,  6.81799963e+02,\n",
       "        2.44211263e+03,  3.34845752e+03,  5.41423770e+03,  1.48895630e+04,\n",
       "        3.58251058e+03,  5.04732536e+03,  5.94005723e+03,  6.59798718e+03,\n",
       "        4.01946179e+03,  2.12050095e+03,  5.19652250e+04, -9.24627554e+01,\n",
       "        7.98304694e+03,  2.17232357e+03,  8.14763419e+03,  5.36112456e+02,\n",
       "        4.08355477e+03,  4.96321417e+02, -2.49011552e+01,  6.57574210e+03,\n",
       "        5.38941167e+03,  4.49272814e+03,  5.52281476e+03,  4.22010137e+03,\n",
       "        4.68797784e+03,  5.46797288e+03, -3.07224215e+02, -7.34646688e+02,\n",
       "        3.22704860e+03,  5.74518124e+03, -8.67457094e+02, -2.72614908e+02,\n",
       "        9.02554134e+02,  1.09654080e+04,  9.65702554e+02,  1.15514928e+03,\n",
       "        1.35162339e+04,  3.16073515e+03,  5.53072106e+03,  3.21206948e+02,\n",
       "        1.86985016e+03,  9.13062634e+03,  2.33896202e+03,  1.60886901e+03,\n",
       "        4.85913819e+03,  3.36839011e+03,  3.24608759e+03,  6.04481649e+03,\n",
       "        4.67994965e+02,  1.08614352e+04,  1.44479782e+03,  3.60445390e+03,\n",
       "        4.88713100e+03,  1.78040090e+03,  8.83478318e+03,  1.15097700e+03,\n",
       "        1.77128950e+03,  8.07711710e+03,  1.75769123e+04,  4.66070446e+03,\n",
       "        2.29692320e+03,  1.55303663e+03,  1.39758783e+03,  3.83876344e+03,\n",
       "        2.23749710e+03,  6.16939188e+03,  6.89294085e+03,  3.05514764e+03,\n",
       "       -4.84400952e+02,  2.09093804e+04,  1.36244602e+03,  1.73666517e+03,\n",
       "       -8.08296364e+02,  4.40876956e+02,  8.99304714e+02,  1.18734107e+04,\n",
       "        8.19161753e+03,  1.53010285e+04,  5.64507364e+02,  2.37715046e+03,\n",
       "        1.38780494e+03, -4.03964463e+02,  2.11208333e+03,  8.11252104e+03,\n",
       "        4.79758560e+02,  1.39109677e+03,  7.89807243e+03,  1.93905236e+03,\n",
       "        9.43372855e+01,  1.96614543e+04,  1.34882043e+03,  2.65196947e+03,\n",
       "        1.24176018e+03,  1.82509554e+03,  4.64095133e+03,  6.90158618e+03,\n",
       "        6.45495292e+02,  6.60755258e+03,  3.05102743e+03,  9.08236092e+03,\n",
       "        2.48305797e+03,  7.05804237e+03,  6.83867425e+03,  5.25023892e+03,\n",
       "       -5.53139208e+02,  4.64249206e+03, -9.15367596e+02,  1.70240914e+03,\n",
       "        7.43617970e+03,  1.47898002e+04,  2.61800694e+03,  8.51809213e+03,\n",
       "        8.24593866e+03,  2.33454058e+03,  2.84780875e+03,  2.30718045e+03,\n",
       "        2.46592913e+03,  2.38691550e+03,  5.29114317e+03, -1.21221746e+03,\n",
       "        1.53504850e+04,  8.07083868e+03,  1.59445310e+04,  2.09846023e+03,\n",
       "        3.34017394e+03,  8.26646128e+02,  1.61542784e+03,  1.56578848e+04,\n",
       "        3.76883254e+03, -6.03915258e+02,  5.33845131e+03,  3.83206081e+03,\n",
       "        1.75105992e+03,  3.36833979e+03,  2.46813041e+03,  1.51657371e+03,\n",
       "        1.47817588e+03,  1.49741141e+04,  1.49481037e+04,  2.12795171e+03,\n",
       "        2.17536962e+03,  1.46781729e+04,  1.79321048e+03,  4.67398462e+03,\n",
       "        5.65543648e+03,  4.61782311e+03,  3.53486848e+03,  1.73832025e+03,\n",
       "        2.35317939e+03,  1.13324264e+04,  3.65317244e+03,  9.15256196e+02,\n",
       "        7.76886002e+03,  9.14258745e+01,  1.57432196e+03, -6.54953291e+02,\n",
       "        2.91487931e+03,  1.81572090e+03,  8.01551084e+03,  8.76860618e+02,\n",
       "        7.57871955e+02,  8.69266073e+03,  8.06112386e+03,  1.29196029e+03,\n",
       "        5.50054217e+03,  3.53137279e+03,  4.88377385e+03,  4.45844157e+02,\n",
       "       -6.41621910e+01,  2.85196859e+03,  4.64164127e+03,  1.44418815e+03,\n",
       "        3.56326010e+03,  7.29396035e+03,  1.00119825e+04,  2.06527661e+03,\n",
       "        2.84996434e+03,  1.72339670e+03,  4.06836435e+02,  1.08368005e+04,\n",
       "        3.72870556e+03,  1.23245377e+03,  2.59200206e+03,  1.99276268e+03,\n",
       "        2.27745582e+03,  4.05170314e+03, -9.07380172e+02,  7.90165090e+03,\n",
       "        1.15311356e+03,  5.55517731e+03, -7.00868126e+00,  4.79095287e+03,\n",
       "        3.66254585e+03,  4.64636213e+03,  1.28959808e+03,  7.70817440e+03,\n",
       "        1.85636110e+04,  4.65383091e+03,  2.91714304e+03,  4.90027637e+03,\n",
       "        1.96999077e+03, -8.46995849e+01, -1.13229798e+03,  5.20299631e+03,\n",
       "        4.56620719e+03,  1.84068066e+03,  1.68608547e+03,  2.99694403e+03,\n",
       "        1.64438229e+03,  1.60988826e+03,  5.83915449e+02,  1.03319012e+03,\n",
       "        1.38335284e+03,  4.48084186e+03,  7.78178463e+02,  5.04044533e+02,\n",
       "        3.36261837e+03,  5.76817953e+03,  3.22019890e+03,  1.79104354e+04,\n",
       "       -2.76453609e+02,  1.56284993e+02,  2.84996117e+03,  1.14186102e+04,\n",
       "        2.19799917e+03,  1.53574342e+04,  9.68991794e+01,  3.82280000e+03,\n",
       "        1.35138907e+03,  1.05180946e+04,  2.21563733e+03,  9.06122746e+01,\n",
       "        1.13960219e+03,  5.67132756e+03,  1.94366958e+02,  6.47306628e+03,\n",
       "        1.38287000e+03,  4.30757739e+03,  2.15174657e+03,  1.19435836e+03,\n",
       "        1.06669296e+03,  7.35070311e+02,  2.01271401e+03,  3.48471115e+03,\n",
       "        7.06362385e+03,  2.42805803e+03,  3.47100529e+03,  3.95347936e+03,\n",
       "        2.33540906e+03,  5.72530235e+03, -8.26961614e+01])"
      ]
     },
     "execution_count": 31,
     "metadata": {},
     "output_type": "execute_result"
    }
   ],
   "source": [
    "y_test_pred = lr.predict(X_test)\n",
    "y_test_pred"
   ]
  },
  {
   "cell_type": "code",
   "execution_count": 32,
   "id": "9c961068",
   "metadata": {},
   "outputs": [
    {
     "name": "stdout",
     "output_type": "stream",
     "text": [
      "R2Score :  0.9395450438291394\n",
      "mean_absolute_error :  710.3965101273101\n",
      "mean_squared_error :  1681519.75963613\n",
      "Root mean_squared_error :  1296.7342671635272\n"
     ]
    }
   ],
   "source": [
    "print(\"R2Score : \" ,r2_score(y_test, y_test_pred)) \n",
    "print(\"mean_absolute_error : \",mean_absolute_error(y_test, y_test_pred))\n",
    "print(\"mean_squared_error : \" ,mean_squared_error(y_test, y_test_pred)) \n",
    "print(\"Root mean_squared_error : \",np.sqrt(mean_squared_error(y_test, y_test_pred)))"
   ]
  },
  {
   "cell_type": "code",
   "execution_count": 34,
   "id": "d20db38f",
   "metadata": {},
   "outputs": [],
   "source": [
    "sc = StandardScaler()\n",
    "X_train_std = sc.fit_transform(X_train)\n",
    "X_test_std = sc.transform(X_test)"
   ]
  },
  {
   "cell_type": "code",
   "execution_count": 35,
   "id": "46b973f9",
   "metadata": {},
   "outputs": [
    {
     "name": "stdout",
     "output_type": "stream",
     "text": [
      "Accuracy: 0.9975558282136721\n",
      "R squared: 0.9975558282136721\n"
     ]
    }
   ],
   "source": [
    "rf_tree = RandomForestRegressor(random_state=0)\n",
    "rf_tree.fit(X_train_std,y_train)\n",
    "rf_tree_y_pred = rf_tree.predict(X_train_std)\n",
    "print(\"Accuracy: {}\".format(rf_tree.score(X_train_std,y_train)))\n",
    "print(\"R squared: {}\".format(r2_score(y_true=y_train,y_pred=rf_tree_y_pred)))"
   ]
  }
 ],
 "metadata": {
  "kernelspec": {
   "display_name": "Python 3",
   "language": "python",
   "name": "python3"
  },
  "language_info": {
   "codemirror_mode": {
    "name": "ipython",
    "version": 3
   },
   "file_extension": ".py",
   "mimetype": "text/x-python",
   "name": "python",
   "nbconvert_exporter": "python",
   "pygments_lexer": "ipython3",
   "version": "3.5.4"
  }
 },
 "nbformat": 4,
 "nbformat_minor": 5
}
